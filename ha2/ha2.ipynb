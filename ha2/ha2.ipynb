{
 "cells": [
  {
   "cell_type": "code",
   "execution_count": null,
   "metadata": {},
   "outputs": [],
   "source": [
    "import sympy as sp\n",
    "import numpy as np\n",
    "import matplotlib.pyplot as plt"
   ]
  },
  {
   "cell_type": "markdown",
   "metadata": {},
   "source": [
    "### 1. Formulate the statement of the interpolation problem with Cubic Spline [mathematical formula]"
   ]
  },
  {
   "cell_type": "markdown",
   "metadata": {},
   "source": [
    "$$y_i = f(x_i), x_i \\in \\Omega_n, \\Omega_n: \\{[a, b] \\subset R^n, h_{i+1} = x_{i+1} - x_i\\}$$ \n",
    "\n",
    "$$S_3(x) - ?$$\n",
    "\n",
    "$$S_3(x) = \\bigcup_{ i = 0}^{n - 1} S_{3,i}(x)$$\n",
    "\n",
    "$$S_3(x) \\in C_2[a,b], q = 1$$\n",
    "\n",
    "$$S_{3,i}(x) = a_{0,i} + a_{1, i}(x - x_i) + a_{2, i}(x - x_i)^2 + a_{3,i}(x - x_i)^3$$\n"
   ]
  },
  {
   "cell_type": "markdown",
   "metadata": {},
   "source": [
    "### 2. Formulate the functional and differential compatibility conditions [mathematical formula]"
   ]
  },
  {
   "cell_type": "markdown",
   "metadata": {},
   "source": [
    "Differential compatibility condidtions for each element of $S_{m}$:\n",
    "\n",
    "$$\\delta S_{3,i}^{(p2)}(x_j) = S_{3,i}^{(p2)}(x_j) - f^{(p2)}(x_j) = 0, j = i,i+1$$\n",
    "\n",
    "Functional compatibility condidtion for each element of $S_{m}$:\n",
    "\n",
    "$$\\delta S_{3,i}(x_j) = S_{3,i}(x_j) - f(x_j) = 0, j = i, i + 1$$\n",
    "\n",
    "$$ p1 \\cap p2 = \\emptyset$$\n",
    "\n",
    "$$ 0 \\le p1 \\le r, 0 \\le p2 \\le r$$\n",
    "\n",
    "$$ p1 \\cup p2  = p, p: S_3(x) \\in C_2[a, b]$$\n",
    "\n",
    "$$ p1 = \\{1\\}, p2 = \\{0, 2\\} $$\n"
   ]
  },
  {
   "cell_type": "markdown",
   "metadata": {},
   "source": [
    "### 3. Formulate stitching conditions [mathematical formula]"
   ]
  },
  {
   "cell_type": "markdown",
   "metadata": {},
   "source": [
    "$$S_{m,i-1}^{(p1)}(x)|_{x = x_i} = S_{m,i}^{(p1)}(x)|_{x = x_i}, i = \\overline{1,n-1}$$\n",
    "\n",
    "\n",
    "\n",
    "\n"
   ]
  },
  {
   "cell_type": "markdown",
   "metadata": {},
   "source": [
    "### 4. Justify why these conditions provide you with the required smoothness [thesis text, no more than 500 characters]"
   ]
  },
  {
   "cell_type": "markdown",
   "metadata": {},
   "source": [
    "Functional condition provides soundness for interpolation task. So the resulting $S_3(x)$ will go through given points $(x_i, y_i), i \\in \\Omega_n$\n",
    "\n",
    "Differential condition together with stiching conditions makes resulting $S_3(x)$ smooth, i.e. in every point $x \\in [a, b]$ there exist $r$ derivatives. Stiching conditions make sure that resulting $S_3(x)$ doesn't have breaking points, i.e. points where first derivative is not equal.\n",
    "\n",
    "This is needed because on practice we don't know anything about real function $f$. By applying this conditions, our approximated function $\\hat{f}(x, a)$ is more convinient to work with.\n",
    "\n",
    "\n"
   ]
  },
  {
   "cell_type": "markdown",
   "metadata": {},
   "source": [
    "### 5. Derive dependency formula: the dependence of the second derivatives at the grid nodes on the increment of the function (the function values difference on the grid nodes). [Mathematical formulas derivation. Detailed, with clear transitions]"
   ]
  },
  {
   "cell_type": "markdown",
   "metadata": {},
   "source": [
    "Function of $S_{3,i}$ and its first and second derivatives:\n",
    "$$S_{3,i}(x) = a_{0,i} + a_{1, i}(x - x_i) + a_{2, i}(x - x_i)^2 + a_{3,i}(x - x_i)^3$$\n",
    "\n",
    "$$S_{3,i}'(x) = a_{1, i} + 2a_{2, i}(x - x_i) + 3a_{3,i}(x - x_i)^2$$\n",
    "\n",
    "$$S_{3,i}''(x) = 2a_{2, i} + 6a_{3,i}(x - x_i)$$\n",
    "\n",
    "Let's start from functional condition. \n",
    "\n",
    "Substitute with $j=i$:\n",
    "$$\\delta S_{3,i}(x_i), a_{0,i} = f(x_i)$$\n",
    "\n",
    "Substitute with $j=i+1$:\n",
    "$$\\delta S_{3,i}(x_{i+1}), a_{0, i} + a_{1, i}(x_{i+1} - x_i) + a_{2, i}(x_{i+1} - x_i)^2 + a_{3,i}(x_{i+1} - x_i)^3 - f(x_{i+1}) = 0$$\n",
    "\n",
    "\n",
    "Using substitution of $j=i$ and more short definitions:\n",
    "$$h_{i+1} = x_{i+1} - x_i, \\Delta f_i = f(x_{i+1}) - f(x_i) $$\n",
    "$$\\delta S_{3,i}(x_{i+1}), a_{1, i}h_{i+1} + a_{2, i}h_{i+1}^2 + a_{3,i}h_{i+1}^3 - \\Delta f_i = 0$$\n",
    "\n",
    "Our unknown variables are second derivatives:\n",
    "$$m_i = f''(x_i)$$\n",
    "\n",
    "Applying substition of $j=i$ for differential condition:\n",
    "$$\\delta S_{3,i}''(x_i), 2a_{2,i} = m_i$$\n",
    "\n",
    "Substitution of $j=i+1$\n",
    "$$\\delta S_{3,i}''(x_{i+1}), 2a_{2,i} + 6a_{3,i}h_{i+1} - m_{i+1} = 0$$\n",
    "$$\\Delta m_i = m_{i+1} - m_i$$\n",
    "\n",
    "Combining susbtitutions:\n",
    "$$\\delta S_{3,i}''(x_{i+1}), 6a_{3,i}h_{i+1} - \\Delta m_i = 0$$\n",
    "\n",
    "Deriving parameters for polynomial function $S_{3,i}$\n",
    "$$a_{0,i} = f(x_i)$$\n",
    "$$a_{1,i} = \\frac{\\Delta f_i}{h_{i+1}} - \\frac{m_i h_{i+1}}{2} - \\frac{\\Delta m_i h_{i+1}}{6}$$\n",
    "$$a_{2,i} = \\frac{m_i}{2} $$\n",
    "$$a_{3,i} = \\frac{\\Delta m_i}{6 h_{i+1}}$$ \n",
    "\n",
    "$$S_{3,i}(x) = f({x_i}) + (\\frac{\\Delta f_i}{h_{i+1}} - \\frac{\\Delta m_i h_{i+1}}{2} - \\frac{\\Delta m_i h_{i+1}}{6})(x - x_i) + \\frac{m_i}{2}(x - x_i)^2 + \\frac{\\Delta m_i}{6 h_{i+1}}(x - x_i)^3$$\n",
    "\n",
    "Now let's close our system using stiching conditions:\n",
    "\n",
    "$$S_{3,i}'(x_i) = a_{1,i} = \\frac{\\Delta f_i}{h_{i+1}} - \\frac{m_i h_{i+1}}{2} - \\frac{\\Delta m_i h_{i+1}}{6}$$\n",
    "\n",
    "$$S_{3,i-1}'(x_i) = a_{1, i-1} + 2a_{2,i-1}({x_i - x_{i-1}}) + 3a_{3,i-1}(x_i - x_{i-1})^2 = a_{1,i-1} + 2a_{2,i-1}h_i + 3a_{3,i-1}h_i^2 = \\frac{\\Delta f_{i-1}}{h_i} - \\frac{m_{i-1}}{2}h_i - \\frac{\\Delta m_{i-1}}{6}h_i + m_{i-1}h_i + \\frac{\\Delta m_{i-1}}{2}{h_i} = \\frac{\\Delta f_{i-1}}{h_i} + \\frac{m_{i-1}}{2}h_i + \\frac{\\Delta m_{i-1}}{3}{h_i}$$\n",
    "\n",
    "Equation of stiching condition:\n",
    "$$\\frac{\\Delta f_{i-1}}{h_i} + \\frac{m_{i-1}}{2}h_i + \\frac{\\Delta m_{i-1}}{3}{h_i} = \\frac{\\Delta f_i}{h_{i+1}} - \\frac{m_i h_{i+1}}{2} - \\frac{\\Delta m_i h_{i+1}}{6}$$\n",
    "\n",
    "$$\\frac{\\Delta f_{i-1}}{h_i} + \\frac{h_i}{2}m_{i-1} + \\frac{h_i}{3}{m_i} - \\frac{h_i}{3}m_{i-1} = \\frac{\\Delta f_i}{h_{i+1}} - \\frac{h_{i+1}}{2}m_i - \\frac{h_{i+1}}{6}m_{i+1} + \\frac{h_{i+1}}{6}m_i$$\n",
    "\n",
    "$$\\frac{\\Delta f_{i-1}}{h_i} + \\frac{h_i}{6}m_{i-1} + \\frac{h_i}{3}{m_i} = \\frac{\\Delta f_i}{h_{i+1}} - \\frac{h_{i+1}}{3}m_i - \\frac{h_{i+1}}{6}m_{i+1}$$\n",
    "\n",
    "Finally, obtaining formula for vector $m_i$\n",
    "$$\\frac{h_i}{6}m_{i-1} + \\frac{h_i + h_{i+1}}{3}{m_i} + \\frac{h_{i+1}}{6}m_{i+1}= \\frac{\\Delta f_i}{h_{i+1}} - \\frac{\\Delta f_{i-1}}{h_i}, i = \\overline{1,n-1}$$"
   ]
  },
  {
   "cell_type": "markdown",
   "metadata": {},
   "source": [
    "### 6. Create a system of equations using this formula [Matrix representation. Mathematical formulas]"
   ]
  },
  {
   "cell_type": "markdown",
   "metadata": {},
   "source": [
    "$$\n",
    "\\begin{bmatrix}\n",
    " &h_1  &2(h_1+h_2)  &h_2  &0  &0  &0   &\\cdots  &0  &0 &0 \\\\ \n",
    " &0  &h_2  &2(h_2 + h_3)  &h_3  &0  &0  &\\cdots  &0  &0 &0\\\\ \n",
    " &0  &0  &h_3  &2(h_3 + h_4)  &h_4  &0  &\\cdots  &0  &0 &0\\\\ \n",
    " &0  &0  &0  &h_4  &2(h_4 + h_5))  &h_5  &\\cdots  &0  &0 &0\\\\ \n",
    " &\\vdots  &\\vdots  &\\vdots  &\\vdots  &\\ddots  &\\ddots  &\\ddots  &\\vdots  &\\vdots &\\vdots\\\\ \n",
    " &0  &0  &0  &0  &0  &0  &0 &h_{n-1}  &2(h_{n-1} - h_n)  &h_n \\\\ \n",
    "\\end{bmatrix}\n",
    "\\begin{bmatrix}\n",
    "m_0\\\\ \n",
    "m_1\\\\ \n",
    "m_2\\\\ \n",
    "m_3\\\\ \n",
    "m_4\\\\ \n",
    "m_5\\\\ \n",
    "\\vdots\\\\ \n",
    "m_n\\\\  \n",
    "\\end{bmatrix}\n",
    "=\n",
    "\\begin{bmatrix}\n",
    "6(\\frac{\\Delta f_1}{h_{2}} - \\frac{\\Delta f_{0}}{h_1})\\\\ \n",
    "6(\\frac{\\Delta f_2}{h_{3}} - \\frac{\\Delta f_{1}}{h_2})\\\\ \n",
    "6(\\frac{\\Delta f_3}{h_{4}} - \\frac{\\Delta f_{2}}{h_3})\\\\ \n",
    "6(\\frac{\\Delta f_4}{h_{5}} - \\frac{\\Delta f_{3}}{h_4})\\\\ \n",
    "6(\\frac{\\Delta f_5}{h_{6}} - \\frac{\\Delta f_{4}}{h_5})\\\\ \n",
    "\\vdots\\\\ \n",
    "6(\\frac{\\Delta f_{n-1}}{h_{n}} - \\frac{\\Delta f_{n-2}}{h_{n-1}})\\\\ \n",
    "\\end{bmatrix}\n",
    "$$\n",
    "\n",
    "\n",
    "\n",
    "\n",
    "\n",
    "\n"
   ]
  },
  {
   "cell_type": "markdown",
   "metadata": {},
   "source": [
    "### 7. Explain what is an unknown variable in this system. whether the system is closed with respect to an unknown variable. What is missing for closure. [Text, no more than 200 characters]"
   ]
  },
  {
   "cell_type": "markdown",
   "metadata": {},
   "source": [
    "$m$ is a vector of unknown variables. By definition, it is second derivative of original function in points $x_i,i= \\overline{0,n}$ \n",
    "\n",
    "Final matrix is in the form of $n \\times (n-2)$, so we need two conditions for $m_0$ and $m_n$\n",
    "\n",
    "There are various methods to approximate them. The most simple is to assume there are 0, $m_0=m_n=0$. Others include assumptions on equality for first and last two segments.\n",
    "\n",
    "In the end we will have matrix in the form of $(n-2) \\times (n-2)$ with $n-2$ unknown variables\n",
    "\n",
    "\n"
   ]
  },
  {
   "cell_type": "markdown",
   "metadata": {},
   "source": [
    "### 8. Bring this matrix to the appropriate form to use the Tridiagonal matrix algorithm [Mathematical derivation. Use Gauss Elimination]"
   ]
  },
  {
   "cell_type": "markdown",
   "metadata": {},
   "source": [
    "$$\n",
    "\\begin{bmatrix}\n",
    " &2(h_1+h_2)  &h_2  &0  &0  &0   &\\cdots  &0  &0 \\\\ \n",
    " &h_2  &2(h_2 + h_3)  &h_3  &0  &0  &\\cdots  &0  &0\\\\ \n",
    " &0  &h_3  &2(h_3 + h_4)  &h_4  &0  &\\cdots  &0  &0\\\\ \n",
    " &0  &0  &h_4  &2(h_4 + h_5))  &h_5  &\\cdots  &0  &0\\\\ \n",
    " &\\vdots  &\\vdots  &\\vdots  &\\ddots  &\\ddots  &\\ddots  &\\vdots  &\\vdots\\\\ \n",
    " &0  &0  &0  &0  &0  &0 &h_{n-1}  &2(h_{n-1} - h_n) \\\\ \n",
    "\\end{bmatrix}\n",
    "\\begin{bmatrix} \n",
    "m_1\\\\ \n",
    "m_2\\\\ \n",
    "m_3\\\\ \n",
    "m_4\\\\ \n",
    "m_5\\\\ \n",
    "\\vdots\\\\ \n",
    "m_{n-1}\\\\  \n",
    "\\end{bmatrix}\n",
    "=\n",
    "\\begin{bmatrix}\n",
    "6(\\frac{\\Delta f_1}{h_{2}} - \\frac{\\Delta f_{0}}{h_1})\\\\ \n",
    "6(\\frac{\\Delta f_2}{h_{3}} - \\frac{\\Delta f_{1}}{h_2})\\\\ \n",
    "6(\\frac{\\Delta f_3}{h_{4}} - \\frac{\\Delta f_{2}}{h_3})\\\\ \n",
    "6(\\frac{\\Delta f_4}{h_{5}} - \\frac{\\Delta f_{3}}{h_4})\\\\ \n",
    "6(\\frac{\\Delta f_5}{h_{6}} - \\frac{\\Delta f_{4}}{h_5})\\\\ \n",
    "\\vdots\\\\ \n",
    "6(\\frac{\\Delta f_{n-1}}{h_{n}} - \\frac{\\Delta f_{n-2}}{h_{n-1}})\\\\ \n",
    "\\end{bmatrix}\n",
    "$$\n",
    "\n",
    "\n",
    "\n",
    "\n",
    "\n",
    "\n",
    "\n",
    "\n",
    "\n"
   ]
  },
  {
   "cell_type": "markdown",
   "metadata": {},
   "source": [
    "### 9. Derive formulas of direct pass and reverse pass of Tridiagonal matrix algorithm [Mathematical formals]"
   ]
  },
  {
   "cell_type": "markdown",
   "metadata": {},
   "source": [
    "$$c_i = h_{i+1}$$\n",
    "$$b_i = 2(h_i+ h_{i+1})$$\n",
    "$$a_i = h_i$$\n",
    "$$d_i = 6(\\frac{\\Delta f_i}{h_{i+1}} - \\frac{\\Delta f_{i-1}}{h_i})$$\n",
    "\n",
    "Forward pass:\n",
    "$$w_i = \\frac{a_i}{b_{i-1}}= \\frac{h_i}{2(h_{i-1} + h_{i})} $$  \n",
    "$$b_i = b_i - w_i c_{i-1} = 2(h_i+ h_{i+1}) - \\frac{h_i^2}{2(h_{i-1} + h_{i})} $$\n",
    "$$d_i = d_i - w_i d_{i-1} = 6(\\frac{\\Delta f_i}{h_{i+1}} - \\frac{\\Delta f_{i-1}}{h_i}) - \\frac{3h_i}{(h_{i-1} + h_{i})}(\\frac{\\Delta f_{i-1}}{h_i} - \\frac{\\Delta f_{i-2}}{h_{i-1}}) $$\n",
    "\n",
    "Backward pass:\n",
    "\n",
    "$$x_n = \\frac{d_n}{b_n}$$\n",
    "$$x_i = \\frac{d_n - c_i x_{i+1}}{b_n}$$\n"
   ]
  },
  {
   "cell_type": "markdown",
   "metadata": {},
   "source": [
    "### 10. Implement code prototype of the future algorithm implementation. Classes/methods (if you use OOP), functions. The final implementation (on language chosen by you) should not differ from the functions declared in the prototype. [Python code]"
   ]
  },
  {
   "cell_type": "code",
   "execution_count": 6,
   "metadata": {},
   "outputs": [],
   "source": [
    "import matplotlib.pyplot as plt \n",
    "import numpy as np"
   ]
  },
  {
   "cell_type": "code",
   "execution_count": 18,
   "metadata": {},
   "outputs": [
    {
     "data": {
      "image/png": "[encoded data removed]",
      "text/plain": [
       "<Figure size 432x288 with 1 Axes>"
      ]
     },
     "metadata": {
      "needs_background": "light"
     },
     "output_type": "display_data"
    }
   ],
   "source": [
    "def grid_function():\n",
    "    x = np.linspace(35, 55, 10)\n",
    "    y = np.log(x) + np.cos(x/2)\n",
    "    return np.array((x,y))\n",
    "\n",
    "points = grid_function()\n",
    "\n",
    "plt.plot(points[0], points[1])\n",
    "plt.xlabel('x - axis') \n",
    "plt.ylabel('y - axis') \n",
    "plt.show()"
   ]
  },
  {
   "cell_type": "code",
   "execution_count": 100,
   "metadata": {},
   "outputs": [],
   "source": [
    "def solve_triangle(m):\n",
    "    a = 0\n",
    "    b = 1\n",
    "    c = 2\n",
    "    d = 3\n",
    "    for i in range(1, m.shape[1]):\n",
    "        previous_step = m[:, i - 1]\n",
    "        current_step = m[:, i]\n",
    "        \n",
    "        w = current_step[a] / previous_step[b]\n",
    "        \n",
    "        new_b = current_step[b] - w * previous_step[c]\n",
    "        new_d = current_step[d] - w * previous_step[d]\n",
    "        \n",
    "        m[:,i] = np.array([0, new_b, current_step[c], new_d])\n",
    "    \n",
    "    last_row = m[:,-1]\n",
    "    solution = [last_row[d]/ last_row[b]]\n",
    "    \n",
    "    for i in range(m.shape[1] - 2, -1, -1):\n",
    "        current_step = m[:, i]        \n",
    "        solution.append((current_step[d] - current_step[c] * solution[-1])/current_step[b])\n",
    "        \n",
    "    solution = np.array(solution)\n",
    "    solution = np.flip(solution)\n",
    "    return solution"
   ]
  },
  {
   "cell_type": "code",
   "execution_count": 101,
   "metadata": {},
   "outputs": [],
   "source": [
    "def solve(x,y):\n",
    "    a = x[1:-1] - x[:-2] \n",
    "    c = x[2:] - x[:-2]\n",
    "    b = 2 * (a + c)\n",
    "    d = 6 * ((y[2:] - y[1:-1]) / c - (y[1:-1] - y[:-2]) / a)\n",
    "    \n",
    "    matrix = np.stack([a,b,c,d])\n",
    "    m = solve_triangle(matrix)\n",
    "\n",
    "    m = np.concatenate([[0], m, [0]])\n",
    "    \n",
    "    a_0 = y[:-1]\n",
    "    a_1 = (y[1:] - y[:-1]) / (x[1:] - x[:-1]) \\\n",
    "    - (x[1:] - x[:-1]) * m[:-1] / 2 - (x[1:] - x[:-1]) * (m[1:] - m[:-1]) / 6\n",
    "    a_2 = m[:-1] / 2\n",
    "    a_3 = (m[1:] - m[:-1]) / (x[1:] - x[:-1]) / 6\n",
    "    \n",
    "    return np.stack([a_0,a_1,a_2,a_3]).T"
   ]
  },
  {
   "cell_type": "code",
   "execution_count": 106,
   "metadata": {},
   "outputs": [],
   "source": [
    "def plot_solution(x, solution):\n",
    "    x_new = np.linspace(35, 55, 100)\n",
    "    y_org = np.log(x_new) + np.cos(x_new/2)\n",
    "    plt.plot(x_new, y_org)\n",
    "    for i in range(1, len(x)):\n",
    "        selected_x = x_new[x_new <= x[i]]\n",
    "        selected_x = selected_x[selected_x >= x[i-1]]\n",
    "        h = selected_x - x[i - 1]\n",
    "        y_approx = np.polynomial.polynomial.polyval(h, solution[i-1])\n",
    "        plt.plot(selected_x, y_approx)"
   ]
  },
  {
   "cell_type": "code",
   "execution_count": 107,
   "metadata": {},
   "outputs": [
    {
     "data": {
      "image/png": "[encoded data removed]",
      "text/plain": [
       "<Figure size 432x288 with 1 Axes>"
      ]
     },
     "metadata": {
      "needs_background": "light"
     },
     "output_type": "display_data"
    }
   ],
   "source": [
    "solution = solve(points[0], points[1])\n",
    "plot_solution(points[0], solution)"
   ]
  },
  {
   "cell_type": "markdown",
   "metadata": {},
   "source": [
    "### 11. Derive formula of Cubic Spline method error [Mathematical formulas]"
   ]
  },
  {
   "cell_type": "markdown",
   "metadata": {},
   "source": [
    "Interpolation error for polynomial function\n",
    "$$R_n(x) = f(x) - P_n(x)$$\n",
    "$$R_n(x) = \\frac{f^{n+1}(\\xi)}{(n+1)!}\\prod_{j=0}^{n}(x-x_j), \\xi \\in [a,b]$$\n",
    "\n",
    "This formula is approximated (for $h - const$):\n",
    "$$|R_n(x)| \\le \\frac{h^{n+1}}{n+1}max_{\\xi \\in [a,b]}|f^{n+1}(\\xi)|$$\n",
    "\n",
    "Because on each spline is cubic polynomial, whole function $S_3(x)$ is a polynomial with $n=3$. Thus formula becomes:\n",
    "$$|R_n(x)| \\le \\frac{h^4}{4}max_{\\xi \\in [a,b]}|f^{4}(\\xi)| $$\n"
   ]
  },
  {
   "cell_type": "markdown",
   "metadata": {},
   "source": [
    "### 12. Rate the complexity of the algorithm [Text, and rate in terms of big O, no more than 100 characters]"
   ]
  },
  {
   "cell_type": "markdown",
   "metadata": {},
   "source": [
    "Forward pass takes $n - 1$ steps: complexity - $O(n)$\n",
    "\n",
    "Backward pass takes $n - 1$ steps: complexity - $O(n)$\n",
    "\n",
    "Sum: $2n - 2$: complexity - $O(n)$\n",
    "\n",
    "\n",
    "\n",
    "\n",
    "\n"
   ]
  },
  {
   "cell_type": "markdown",
   "metadata": {},
   "source": [
    "### Congrats!"
   ]
  }
 ],
 "metadata": {
  "kernelspec": {
   "display_name": "Python 3",
   "language": "python",
   "name": "python3"
  },
  "language_info": {
   "codemirror_mode": {
    "name": "ipython",
    "version": 3
   },
   "file_extension": ".py",
   "mimetype": "text/x-python",
   "name": "python",
   "nbconvert_exporter": "python",
   "pygments_lexer": "ipython3",
   "version": "3.6.8"
  }
 },
 "nbformat": 4,
 "nbformat_minor": 2
}
